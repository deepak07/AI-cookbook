{
 "cells": [
  {
   "cell_type": "code",
   "execution_count": 1,
   "metadata": {},
   "outputs": [
    {
     "name": "stdout",
     "output_type": "stream",
     "text": [
      "Requirement already satisfied: openai==1.66.2 in /Users/deepak/my-space/ai-cookbook/ai-cookbook/lib/python3.10/site-packages (1.66.2)\n",
      "Requirement already satisfied: anyio<5,>=3.5.0 in /Users/deepak/my-space/ai-cookbook/ai-cookbook/lib/python3.10/site-packages (from openai==1.66.2) (4.8.0)\n",
      "Requirement already satisfied: distro<2,>=1.7.0 in /Users/deepak/my-space/ai-cookbook/ai-cookbook/lib/python3.10/site-packages (from openai==1.66.2) (1.9.0)\n",
      "Requirement already satisfied: httpx<1,>=0.23.0 in /Users/deepak/my-space/ai-cookbook/ai-cookbook/lib/python3.10/site-packages (from openai==1.66.2) (0.28.1)\n",
      "Requirement already satisfied: jiter<1,>=0.4.0 in /Users/deepak/my-space/ai-cookbook/ai-cookbook/lib/python3.10/site-packages (from openai==1.66.2) (0.8.2)\n",
      "Requirement already satisfied: pydantic<3,>=1.9.0 in /Users/deepak/my-space/ai-cookbook/ai-cookbook/lib/python3.10/site-packages (from openai==1.66.2) (2.10.6)\n",
      "Requirement already satisfied: sniffio in /Users/deepak/my-space/ai-cookbook/ai-cookbook/lib/python3.10/site-packages (from openai==1.66.2) (1.3.1)\n",
      "Requirement already satisfied: tqdm>4 in /Users/deepak/my-space/ai-cookbook/ai-cookbook/lib/python3.10/site-packages (from openai==1.66.2) (4.67.1)\n",
      "Requirement already satisfied: typing-extensions<5,>=4.11 in /Users/deepak/my-space/ai-cookbook/ai-cookbook/lib/python3.10/site-packages (from openai==1.66.2) (4.12.2)\n",
      "Requirement already satisfied: exceptiongroup>=1.0.2 in /Users/deepak/my-space/ai-cookbook/ai-cookbook/lib/python3.10/site-packages (from anyio<5,>=3.5.0->openai==1.66.2) (1.2.2)\n",
      "Requirement already satisfied: idna>=2.8 in /Users/deepak/my-space/ai-cookbook/ai-cookbook/lib/python3.10/site-packages (from anyio<5,>=3.5.0->openai==1.66.2) (3.10)\n",
      "Requirement already satisfied: certifi in /Users/deepak/my-space/ai-cookbook/ai-cookbook/lib/python3.10/site-packages (from httpx<1,>=0.23.0->openai==1.66.2) (2025.1.31)\n",
      "Requirement already satisfied: httpcore==1.* in /Users/deepak/my-space/ai-cookbook/ai-cookbook/lib/python3.10/site-packages (from httpx<1,>=0.23.0->openai==1.66.2) (1.0.7)\n",
      "Requirement already satisfied: h11<0.15,>=0.13 in /Users/deepak/my-space/ai-cookbook/ai-cookbook/lib/python3.10/site-packages (from httpcore==1.*->httpx<1,>=0.23.0->openai==1.66.2) (0.14.0)\n",
      "Requirement already satisfied: annotated-types>=0.6.0 in /Users/deepak/my-space/ai-cookbook/ai-cookbook/lib/python3.10/site-packages (from pydantic<3,>=1.9.0->openai==1.66.2) (0.7.0)\n",
      "Requirement already satisfied: pydantic-core==2.27.2 in /Users/deepak/my-space/ai-cookbook/ai-cookbook/lib/python3.10/site-packages (from pydantic<3,>=1.9.0->openai==1.66.2) (2.27.2)\n",
      "Note: you may need to restart the kernel to use updated packages.\n"
     ]
    }
   ],
   "source": [
    "%pip install openai==1.66.2"
   ]
  },
  {
   "cell_type": "code",
   "execution_count": 2,
   "metadata": {},
   "outputs": [],
   "source": [
    "from openai import OpenAI\n",
    "import os"
   ]
  },
  {
   "cell_type": "code",
   "execution_count": null,
   "metadata": {},
   "outputs": [],
   "source": [
    "client = OpenAI(api_key=os.getenv('OPENAI_API_KEY'))\n",
    "\n",
    "response = client.responses.create(\n",
    "    model=\"gpt-3.5-turbo\",\n",
    "    input=\"What do you know about moons?\",\n",
    ")"
   ]
  },
  {
   "cell_type": "code",
   "execution_count": 21,
   "metadata": {},
   "outputs": [
    {
     "name": "stdout",
     "output_type": "stream",
     "text": [
      "Moons are natural satellites that orbit around planets. They are commonly found in our solar system, with most planets having at least one moon. Moons vary in size, composition, and characteristics, with some being small and irregularly shaped while others are larger and more spherical.\n",
      "\n",
      "The Earth's moon, for example, is the fifth largest moon in the solar system and is believed to have formed from a collision between Earth and a Mars-sized body early in the solar system's history. The Moon has a significant influence on Earth's tides and has been the subject of numerous exploration missions.\n",
      "\n",
      "Other planets in our solar system also have interesting moons. For example, Jupiter has over 79 known moons, including Ganymede, the largest moon in the solar system. Saturn's moon Titan is the only moon known to have a dense atmosphere, while Enceladus is believed to have a subsurface ocean that could potentially harbor life.\n",
      "\n",
      "Moons play a crucial role in shaping the dynamics and characteristics of their host planets, influencing phenomena such as tides, magnetic fields, and possibly even the presence of life. Research and exploration of moons continue to provide valuable insights into the history and composition of our solar system.\n"
     ]
    }
   ],
   "source": [
    "print(response.output[0].content[0].text)"
   ]
  },
  {
   "cell_type": "code",
   "execution_count": 11,
   "metadata": {},
   "outputs": [],
   "source": [
    "second_response = client.responses.create(\n",
    "    model=\"gpt-3.5-turbo\",\n",
    "    input=\"Can you tell that in points?\",\n",
    "    previous_response_id=response.id\n",
    ")"
   ]
  },
  {
   "cell_type": "code",
   "execution_count": 12,
   "metadata": {},
   "outputs": [
    {
     "name": "stdout",
     "output_type": "stream",
     "text": [
      "Certainly! Here are some key points about moons:\n",
      "\n",
      "1. Moons are natural satellites that orbit around planets.\n",
      "2. Moons vary in size, composition, and characteristics, with some being small and irregularly shaped while others are larger and more spherical.\n",
      "3. The Earth's moon is the fifth largest moon in the solar system and influences phenomena like tides on our planet.\n",
      "4. Other planets in our solar system, such as Jupiter and Saturn, have a diverse range of moons with unique features.\n",
      "5. Moons play a crucial role in shaping the dynamics and characteristics of their host planets, influencing phenomena like tides, magnetic fields, and potentially the presence of life.\n",
      "6. Exploration and research of moons provide valuable insights into the history and composition of our solar system.\n"
     ]
    }
   ],
   "source": [
    "print(second_response.output[0].content[0].text)"
   ]
  }
 ],
 "metadata": {
  "kernelspec": {
   "display_name": "ai-cookbook",
   "language": "python",
   "name": "python3"
  },
  "language_info": {
   "codemirror_mode": {
    "name": "ipython",
    "version": 3
   },
   "file_extension": ".py",
   "mimetype": "text/x-python",
   "name": "python",
   "nbconvert_exporter": "python",
   "pygments_lexer": "ipython3",
   "version": "3.10.14"
  }
 },
 "nbformat": 4,
 "nbformat_minor": 2
}
