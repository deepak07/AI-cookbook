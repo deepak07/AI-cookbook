{
 "cells": [
  {
   "cell_type": "code",
   "execution_count": 1,
   "metadata": {},
   "outputs": [],
   "source": [
    "from openai import OpenAI\n",
    "import os"
   ]
  },
  {
   "cell_type": "code",
   "execution_count": 6,
   "metadata": {},
   "outputs": [],
   "source": [
    "client = OpenAI(api_key=os.getenv('OPENAI_API_KEY'))\n",
    "\n",
    "response = client.responses.create(\n",
    "    model=\"gpt-4o-mini\",\n",
    "    input=\"What are some new trends in AI?\",\n",
    "    tools=[\n",
    "        {\n",
    "            \"type\": \"web_search\"\n",
    "        }\n",
    "    ]\n",
    ")"
   ]
  },
  {
   "cell_type": "code",
   "execution_count": 17,
   "metadata": {},
   "outputs": [
    {
     "name": "stdout",
     "output_type": "stream",
     "text": [
      "Artificial Intelligence (AI) continues to evolve rapidly, introducing new trends that are reshaping various industries. Here are some of the most notable developments:\n",
      "\n",
      "**1. Generative AI**\n",
      "\n",
      "Generative AI has gained significant traction, enabling machines to create content such as text, images, and music. Tools like OpenAI's ChatGPT and DALL-E have demonstrated the ability to generate human-like text and images from textual descriptions, respectively. This technology is revolutionizing creative industries by automating content creation and enhancing productivity. ([restack.io](https://www.restack.io/p/ai-development-trends-answer-latest-tech-trends-ai-2023?utm_source=openai))\n",
      "\n",
      "**2. Multimodal AI Models**\n",
      "\n",
      "Advancements in AI have led to the development of multimodal models capable of processing and understanding multiple types of data simultaneously, including text, images, and audio. For instance, Google's Gemini model has shown proficiency in tasks requiring complex reasoning and adaptability across different data types, paving the way for more versatile AI applications. ([skailab.tech](https://www.skailab.tech/tpost/3v9uvz2mv1-trends-in-ai-whats-next-in-artificial-in?utm_source=openai))\n",
      "\n",
      "**3. AI in Healthcare**\n",
      "\n",
      "AI is increasingly being integrated into healthcare, improving diagnostics, treatment planning, and drug discovery. AI-driven tools analyze medical data to assist in faster and more accurate diagnoses, while generative AI models are being used to simulate molecular interactions, accelerating the identification of potential drug candidates. ([skailab.tech](https://www.skailab.tech/tpost/3v9uvz2mv1-trends-in-ai-whats-next-in-artificial-in?utm_source=openai))\n",
      "\n",
      "**4. AI for Sustainability**\n",
      "\n",
      "The sustainability sector is leveraging AI to address environmental challenges. AI models are being developed to analyze environmental data, predict climate patterns, and optimize resource management. However, there is a recognized need for digital skills in the sustainability profession to effectively harness AI's potential in this domain. ([reuters.com](https://www.reuters.com/sustainability/society-equity/sustainability-profession-scrambles-fill-extreme-gap-digital-skills-harness-2024-11-28/?utm_source=openai))\n",
      "\n",
      "**5. AI Legislation and Ethics**\n",
      "\n",
      "As AI becomes more integrated into various aspects of society, there is an increasing focus on legislation and ethical considerations. Governments and organizations are developing frameworks to ensure AI systems are transparent, accountable, and non-discriminatory. This includes addressing biases in AI models and establishing guidelines for their responsible use. ([skailab.tech](https://www.skailab.tech/tpost/3v9uvz2mv1-trends-in-ai-whats-next-in-artificial-in?utm_source=openai))\n",
      "\n",
      "**6. AI in Cybersecurity**\n",
      "\n",
      "AI is playing a dual role in cybersecurity: enhancing security measures and presenting new challenges. On one hand, AI algorithms are used to detect and respond to cyber threats more effectively. On the other hand, malicious actors are employing AI to develop sophisticated attacks, highlighting the need for continuous innovation in AI-driven security solutions. ([toxigon.com](https://toxigon.com/top-ai-trends-in-2023?utm_source=openai))\n",
      "\n",
      "**7. Edge AI**\n",
      "\n",
      "Edge AI involves processing data on local devices rather than centralized servers, reducing latency and bandwidth usage. This trend is particularly beneficial for applications requiring real-time decision-making, such as autonomous vehicles and IoT devices. Companies like Mistral AI are developing small, high-performance AI models that operate locally on devices, promoting an open-source approach for widespread accessibility. ([time.com](https://time.com/7023471/arthur-mensch-2/?utm_source=openai))\n",
      "\n",
      "**8. AI in Creative Industries**\n",
      "\n",
      "AI is increasingly integrated into creative workflows, assisting in content generation, design, and media production. Generative AI tools enable artists and designers to explore new creative avenues, automate repetitive tasks, and enhance overall productivity. This integration is reshaping how creative professionals approach their work, offering innovative solutions and efficiencies. ([restack.io](https://www.restack.io/p/ai-development-trends-answer-latest-tech-trends-ai-2023?utm_source=openai))\n",
      "\n",
      "These trends highlight the dynamic and multifaceted nature of AI, underscoring its growing influence across various sectors and the importance of addressing associated challenges responsibly.\n",
      "\n",
      "\n",
      "## Recent Developments in AI Applications and Ethics:\n",
      "- [Why AI Progress is Increasingly Invisible](https://time.com/7205359/why-ai-progress-is-increasingly-invisible/?utm_source=openai)\n",
      "- [Sustainability profession scrambles to fill 'extreme  gap' in digital skills to harness power of AI](https://www.reuters.com/sustainability/society-equity/sustainability-profession-scrambles-fill-extreme-gap-digital-skills-harness-2024-11-28/?utm_source=openai)\n",
      "- [In 2024, artificial intelligence was all about putting AI tools to work](https://apnews.com/article/0b6ab89193265c3f60f382bae9bbabc9?utm_source=openai) \n"
     ]
    }
   ],
   "source": [
    "print(response.output[1].content[0].text)"
   ]
  },
  {
   "cell_type": "code",
   "execution_count": 7,
   "metadata": {},
   "outputs": [
    {
     "name": "stdout",
     "output_type": "stream",
     "text": [
      "[\n",
      "  {\n",
      "    \"id\": \"ws_67d1d36ae13c819297db962c1d519b8a0c38670b06bea178\",\n",
      "    \"status\": \"completed\",\n",
      "    \"type\": \"web_search_call\"\n",
      "  },\n",
      "  {\n",
      "    \"id\": \"msg_67d1d3710bbc8192ae2b9bebe9c4ae530c38670b06bea178\",\n",
      "    \"content\": [\n",
      "      {\n",
      "        \"annotations\": [\n",
      "          {\n",
      "            \"end_index\": 684,\n",
      "            \"start_index\": 570,\n",
      "            \"title\": \"Latest Tech Trends In AI 2023 | Restackio\",\n",
      "            \"type\": \"url_citation\",\n",
      "            \"url\": \"https://www.restack.io/p/ai-development-trends-answer-latest-tech-trends-ai-2023?utm_source=openai\"\n",
      "          },\n",
      "          {\n",
      "            \"end_index\": 1207,\n",
      "            \"start_index\": 1089,\n",
      "            \"title\": \"Trends in AI 2023: Multimodal Models, Sustainability, and the Future of Artificial Intelligence\",\n",
      "            \"type\": \"url_citation\",\n",
      "            \"url\": \"https://www.skailab.tech/tpost/3v9uvz2mv1-trends-in-ai-whats-next-in-artificial-in?utm_source=openai\"\n",
      "          },\n",
      "          {\n",
      "            \"end_index\": 1694,\n",
      "            \"start_index\": 1576,\n",
      "            \"title\": \"Trends in AI 2023: Multimodal Models, Sustainability, and the Future of Artificial Intelligence\",\n",
      "            \"type\": \"url_citation\",\n",
      "            \"url\": \"https://www.skailab.tech/tpost/3v9uvz2mv1-trends-in-ai-whats-next-in-artificial-in?utm_source=openai\"\n",
      "          },\n",
      "          {\n",
      "            \"end_index\": 2245,\n",
      "            \"start_index\": 2069,\n",
      "            \"title\": \"Sustainability profession scrambles to fill 'extreme  gap' in digital skills to harness power of AI\",\n",
      "            \"type\": \"url_citation\",\n",
      "            \"url\": \"https://www.reuters.com/sustainability/society-equity/sustainability-profession-scrambles-fill-extreme-gap-digital-skills-harness-2024-11-28/?utm_source=openai\"\n",
      "          },\n",
      "          {\n",
      "            \"end_index\": 2765,\n",
      "            \"start_index\": 2647,\n",
      "            \"title\": \"Trends in AI 2023: Multimodal Models, Sustainability, and the Future of Artificial Intelligence\",\n",
      "            \"type\": \"url_citation\",\n",
      "            \"url\": \"https://www.skailab.tech/tpost/3v9uvz2mv1-trends-in-ai-whats-next-in-artificial-in?utm_source=openai\"\n",
      "          },\n",
      "          {\n",
      "            \"end_index\": 3235,\n",
      "            \"start_index\": 3159,\n",
      "            \"title\": \"Top AI Trends in 2023: What You Need to Know\",\n",
      "            \"type\": \"url_citation\",\n",
      "            \"url\": \"https://toxigon.com/top-ai-trends-in-2023?utm_source=openai\"\n",
      "          },\n",
      "          {\n",
      "            \"end_index\": 3756,\n",
      "            \"start_index\": 3683,\n",
      "            \"title\": \"Arthur Mensch\",\n",
      "            \"type\": \"url_citation\",\n",
      "            \"url\": \"https://time.com/7023471/arthur-mensch-2/?utm_source=openai\"\n",
      "          },\n",
      "          {\n",
      "            \"end_index\": 4293,\n",
      "            \"start_index\": 4179,\n",
      "            \"title\": \"Latest Tech Trends In AI 2023 | Restackio\",\n",
      "            \"type\": \"url_citation\",\n",
      "            \"url\": \"https://www.restack.io/p/ai-development-trends-answer-latest-tech-trends-ai-2023?utm_source=openai\"\n",
      "          },\n",
      "          {\n",
      "            \"end_index\": 4675,\n",
      "            \"start_index\": 4545,\n",
      "            \"title\": \"Why AI Progress is Increasingly Invisible\",\n",
      "            \"type\": \"url_citation\",\n",
      "            \"url\": \"https://time.com/7205359/why-ai-progress-is-increasingly-invisible/?utm_source=openai\"\n",
      "          },\n",
      "          {\n",
      "            \"end_index\": 4940,\n",
      "            \"start_index\": 4678,\n",
      "            \"title\": \"Sustainability profession scrambles to fill 'extreme  gap' in digital skills to harness power of AI\",\n",
      "            \"type\": \"url_citation\",\n",
      "            \"url\": \"https://www.reuters.com/sustainability/society-equity/sustainability-profession-scrambles-fill-extreme-gap-digital-skills-harness-2024-11-28/?utm_source=openai\"\n",
      "          },\n",
      "          {\n",
      "            \"end_index\": 5095,\n",
      "            \"start_index\": 4943,\n",
      "            \"title\": \"In 2024, artificial intelligence was all about putting AI tools to work\",\n",
      "            \"type\": \"url_citation\",\n",
      "            \"url\": \"https://apnews.com/article/0b6ab89193265c3f60f382bae9bbabc9?utm_source=openai\"\n",
      "          }\n",
      "        ],\n",
      "        \"text\": \"Artificial Intelligence (AI) continues to evolve rapidly, introducing new trends that are reshaping various industries. Here are some of the most notable developments:\\n\\n**1. Generative AI**\\n\\nGenerative AI has gained significant traction, enabling machines to create content such as text, images, and music. Tools like OpenAI's ChatGPT and DALL-E have demonstrated the ability to generate human-like text and images from textual descriptions, respectively. This technology is revolutionizing creative industries by automating content creation and enhancing productivity. ([restack.io](https://www.restack.io/p/ai-development-trends-answer-latest-tech-trends-ai-2023?utm_source=openai))\\n\\n**2. Multimodal AI Models**\\n\\nAdvancements in AI have led to the development of multimodal models capable of processing and understanding multiple types of data simultaneously, including text, images, and audio. For instance, Google's Gemini model has shown proficiency in tasks requiring complex reasoning and adaptability across different data types, paving the way for more versatile AI applications. ([skailab.tech](https://www.skailab.tech/tpost/3v9uvz2mv1-trends-in-ai-whats-next-in-artificial-in?utm_source=openai))\\n\\n**3. AI in Healthcare**\\n\\nAI is increasingly being integrated into healthcare, improving diagnostics, treatment planning, and drug discovery. AI-driven tools analyze medical data to assist in faster and more accurate diagnoses, while generative AI models are being used to simulate molecular interactions, accelerating the identification of potential drug candidates. ([skailab.tech](https://www.skailab.tech/tpost/3v9uvz2mv1-trends-in-ai-whats-next-in-artificial-in?utm_source=openai))\\n\\n**4. AI for Sustainability**\\n\\nThe sustainability sector is leveraging AI to address environmental challenges. AI models are being developed to analyze environmental data, predict climate patterns, and optimize resource management. However, there is a recognized need for digital skills in the sustainability profession to effectively harness AI's potential in this domain. ([reuters.com](https://www.reuters.com/sustainability/society-equity/sustainability-profession-scrambles-fill-extreme-gap-digital-skills-harness-2024-11-28/?utm_source=openai))\\n\\n**5. AI Legislation and Ethics**\\n\\nAs AI becomes more integrated into various aspects of society, there is an increasing focus on legislation and ethical considerations. Governments and organizations are developing frameworks to ensure AI systems are transparent, accountable, and non-discriminatory. This includes addressing biases in AI models and establishing guidelines for their responsible use. ([skailab.tech](https://www.skailab.tech/tpost/3v9uvz2mv1-trends-in-ai-whats-next-in-artificial-in?utm_source=openai))\\n\\n**6. AI in Cybersecurity**\\n\\nAI is playing a dual role in cybersecurity: enhancing security measures and presenting new challenges. On one hand, AI algorithms are used to detect and respond to cyber threats more effectively. On the other hand, malicious actors are employing AI to develop sophisticated attacks, highlighting the need for continuous innovation in AI-driven security solutions. ([toxigon.com](https://toxigon.com/top-ai-trends-in-2023?utm_source=openai))\\n\\n**7. Edge AI**\\n\\nEdge AI involves processing data on local devices rather than centralized servers, reducing latency and bandwidth usage. This trend is particularly beneficial for applications requiring real-time decision-making, such as autonomous vehicles and IoT devices. Companies like Mistral AI are developing small, high-performance AI models that operate locally on devices, promoting an open-source approach for widespread accessibility. ([time.com](https://time.com/7023471/arthur-mensch-2/?utm_source=openai))\\n\\n**8. AI in Creative Industries**\\n\\nAI is increasingly integrated into creative workflows, assisting in content generation, design, and media production. Generative AI tools enable artists and designers to explore new creative avenues, automate repetitive tasks, and enhance overall productivity. This integration is reshaping how creative professionals approach their work, offering innovative solutions and efficiencies. ([restack.io](https://www.restack.io/p/ai-development-trends-answer-latest-tech-trends-ai-2023?utm_source=openai))\\n\\nThese trends highlight the dynamic and multifaceted nature of AI, underscoring its growing influence across various sectors and the importance of addressing associated challenges responsibly.\\n\\n\\n## Recent Developments in AI Applications and Ethics:\\n- [Why AI Progress is Increasingly Invisible](https://time.com/7205359/why-ai-progress-is-increasingly-invisible/?utm_source=openai)\\n- [Sustainability profession scrambles to fill 'extreme  gap' in digital skills to harness power of AI](https://www.reuters.com/sustainability/society-equity/sustainability-profession-scrambles-fill-extreme-gap-digital-skills-harness-2024-11-28/?utm_source=openai)\\n- [In 2024, artificial intelligence was all about putting AI tools to work](https://apnews.com/article/0b6ab89193265c3f60f382bae9bbabc9?utm_source=openai) \",\n",
      "        \"type\": \"output_text\"\n",
      "      }\n",
      "    ],\n",
      "    \"role\": \"assistant\",\n",
      "    \"status\": \"completed\",\n",
      "    \"type\": \"message\"\n",
      "  }\n",
      "]\n"
     ]
    }
   ],
   "source": [
    "import json\n",
    "print(json.dumps(response.output, default=lambda o: o.__dict__, indent=2))"
   ]
  },
  {
   "cell_type": "code",
   "execution_count": 18,
   "metadata": {},
   "outputs": [
    {
     "data": {
      "text/html": [
       "<img src=\"https://farm9.staticflickr.com/8505/8441256181_4e98d8bff5_z_d.jpg\" width=\"400\"/>"
      ],
      "text/plain": [
       "<IPython.core.display.Image object>"
      ]
     },
     "metadata": {},
     "output_type": "display_data"
    }
   ],
   "source": [
    "\n",
    "\n",
    "import base64\n",
    "\n",
    "from IPython.display import Image, display\n",
    "\n",
    "# Display the image from the provided URL\n",
    "url = \"https://farm9.staticflickr.com/8505/8441256181_4e98d8bff5_z_d.jpg\"\n",
    "display(Image(url=url, width=400))\n"
   ]
  },
  {
   "cell_type": "code",
   "execution_count": 19,
   "metadata": {},
   "outputs": [],
   "source": [
    "response_multimodal = client.responses.create(\n",
    "  model=\"gpt-4o\",\n",
    "  input=[\n",
    "    {\n",
    "      \"role\": \"user\",\n",
    "      \"content\": [\n",
    "        {\n",
    "          \"type\": \"input_text\",\n",
    "          \"text\": \"Check if the anmal in the image can walk on two legs.\"\n",
    "        },\n",
    "        {\n",
    "          \"type\": \"input_image\",\n",
    "          \"image_url\": url\n",
    "        }\n",
    "      ]\n",
    "    }\n",
    "  ],\n",
    "  tools=[\n",
    "    {\n",
    "      \"type\": \"web_search\"\n",
    "    }\n",
    "  ]\n",
    ")"
   ]
  },
  {
   "cell_type": "code",
   "execution_count": null,
   "metadata": {},
   "outputs": [
    {
     "name": "stdout",
     "output_type": "stream",
     "text": [
      "ResponseOutputMessage(id='msg_67d1d6d39ad88192a710a2a8837ff7f30fac477dff2ada96', content=[ResponseOutputText(annotations=[], text='No, the animal in the image is a whale, and it cannot walk on two legs. Whales are marine mammals and live in water.', type='output_text')], role='assistant', status='completed', type='message')\n"
     ]
    }
   ],
   "source": [
    "print(response_multimodal.output[0].content[0].text)"
   ]
  },
  {
   "cell_type": "code",
   "execution_count": 20,
   "metadata": {},
   "outputs": [
    {
     "name": "stdout",
     "output_type": "stream",
     "text": [
      "{\n",
      "    \"id\": \"resp_67d1d6d0b1108192bd4123b42ca109f20fac477dff2ada96\",\n",
      "    \"created_at\": 1741805264.0,\n",
      "    \"error\": null,\n",
      "    \"incomplete_details\": null,\n",
      "    \"instructions\": null,\n",
      "    \"metadata\": {},\n",
      "    \"model\": \"gpt-4o-2024-08-06\",\n",
      "    \"object\": \"response\",\n",
      "    \"output\": [\n",
      "        {\n",
      "            \"id\": \"msg_67d1d6d39ad88192a710a2a8837ff7f30fac477dff2ada96\",\n",
      "            \"content\": [\n",
      "                {\n",
      "                    \"annotations\": [],\n",
      "                    \"text\": \"No, the animal in the image is a whale, and it cannot walk on two legs. Whales are marine mammals and live in water.\",\n",
      "                    \"type\": \"output_text\"\n",
      "                }\n",
      "            ],\n",
      "            \"role\": \"assistant\",\n",
      "            \"status\": \"completed\",\n",
      "            \"type\": \"message\"\n",
      "        }\n",
      "    ],\n",
      "    \"parallel_tool_calls\": true,\n",
      "    \"temperature\": 1.0,\n",
      "    \"tool_choice\": \"auto\",\n",
      "    \"tools\": [\n",
      "        {\n",
      "            \"type\": \"web_search_preview\",\n",
      "            \"search_context_size\": \"medium\",\n",
      "            \"user_location\": {\n",
      "                \"type\": \"approximate\",\n",
      "                \"city\": null,\n",
      "                \"country\": \"US\",\n",
      "                \"region\": null,\n",
      "                \"timezone\": null\n",
      "            }\n",
      "        }\n",
      "    ],\n",
      "    \"top_p\": 1.0,\n",
      "    \"max_output_tokens\": null,\n",
      "    \"previous_response_id\": null,\n",
      "    \"reasoning\": {\n",
      "        \"effort\": null,\n",
      "        \"generate_summary\": null\n",
      "    },\n",
      "    \"status\": \"completed\",\n",
      "    \"text\": {\n",
      "        \"format\": {\n",
      "            \"type\": \"text\"\n",
      "        }\n",
      "    },\n",
      "    \"truncation\": \"disabled\",\n",
      "    \"usage\": {\n",
      "        \"input_tokens\": 629,\n",
      "        \"output_tokens\": 31,\n",
      "        \"output_tokens_details\": {\n",
      "            \"reasoning_tokens\": 0\n",
      "        },\n",
      "        \"total_tokens\": 660\n",
      "    },\n",
      "    \"user\": null,\n",
      "    \"_request_id\": \"req_2d8d15bcf1be27100ecbf0116df28fc0\"\n",
      "}\n"
     ]
    }
   ],
   "source": [
    "import json\n",
    "print(json.dumps(response_multimodal.__dict__, default=lambda o: o.__dict__, indent=4))"
   ]
  }
 ],
 "metadata": {
  "kernelspec": {
   "display_name": "ai-cookbook",
   "language": "python",
   "name": "python3"
  },
  "language_info": {
   "codemirror_mode": {
    "name": "ipython",
    "version": 3
   },
   "file_extension": ".py",
   "mimetype": "text/x-python",
   "name": "python",
   "nbconvert_exporter": "python",
   "pygments_lexer": "ipython3",
   "version": "3.10.14"
  }
 },
 "nbformat": 4,
 "nbformat_minor": 2
}
