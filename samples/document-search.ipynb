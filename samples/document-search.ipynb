{
 "cells": [
  {
   "cell_type": "markdown",
   "metadata": {},
   "source": [
    "Initialize Quadrant client and create collection"
   ]
  },
  {
   "cell_type": "code",
   "execution_count": 31,
   "metadata": {},
   "outputs": [],
   "source": [
    "from qdrant_client import QdrantClient\n",
    "from qdrant_client.http import models\n",
    "import os\n",
    "from dotenv import load_dotenv\n",
    "\n",
    "load_dotenv()\n",
    "\n",
    "QDRANT_HOST_URL = os.getenv('QDRANT_HOST_URL')\n",
    "COLLECTION_NAME = \"documents-collection\"\n",
    "\n",
    "qdrant_client = QdrantClient(\n",
    "  url=QDRANT_HOST_URL\n",
    ")\n",
    "\n",
    "if not qdrant_client.collection_exists(COLLECTION_NAME):\n",
    "  qdrant_client.create_collection(\n",
    "      collection_name=COLLECTION_NAME,\n",
    "      vectors_config=models.VectorParams(\n",
    "        size=1536,\n",
    "        distance=models.Distance.COSINE\n",
    "      )\n",
    "  )"
   ]
  },
  {
   "cell_type": "markdown",
   "metadata": {},
   "source": [
    "Read a PDF file and convert those to chunks of text"
   ]
  },
  {
   "cell_type": "code",
   "execution_count": 32,
   "metadata": {},
   "outputs": [
    {
     "name": "stderr",
     "output_type": "stream",
     "text": [
      "Created a chunk of size 1371, which is longer than the specified 1000\n"
     ]
    }
   ],
   "source": [
    "from PyPDF2 import PdfReader\n",
    "from langchain.text_splitter import CharacterTextSplitter\n",
    "\n",
    "pdf = \"assets/StockMarketAnalysis.pdf\"\n",
    "text = \"\"\n",
    "\n",
    "with open(pdf,'rb') as file:\n",
    "    pdf_reader = PdfReader(file)\n",
    "\n",
    "    for page in pdf_reader.pages:\n",
    "        text += page.extract_text()\n",
    "\n",
    "text_splitter = CharacterTextSplitter(\n",
    "        separator=\"\\n\",\n",
    "        chunk_size=1000,\n",
    "        chunk_overlap=200,\n",
    "        length_function=len\n",
    "      )\n",
    "chunks = text_splitter.split_text(text)"
   ]
  },
  {
   "cell_type": "markdown",
   "metadata": {},
   "source": [
    "Convert chunks into points vector by sending to open AI and store those to Qdrant collection"
   ]
  },
  {
   "cell_type": "code",
   "execution_count": null,
   "metadata": {},
   "outputs": [],
   "source": [
    "# Converting chunks into points which are central entity of Qdrant\n",
    "# and putting them up on vector store\n",
    "\n",
    "import uuid\n",
    "from openai import OpenAI\n",
    "from qdrant_client.http.models import PointStruct\n",
    "import os\n",
    "from dotenv import load_dotenv\n",
    "\n",
    "load_dotenv()\n",
    "\n",
    "points = []\n",
    "open_ai_client = OpenAI(api_key=os.getenv('OPENAI_API_KEY'))\n",
    "\n",
    "print(len(chunks), \"chunks to embed\")\n",
    "\n",
    "for idx, chunk in enumerate(chunks):\n",
    "  print(\"Embedding chunk\", idx+1, \"/\", len(chunks))\n",
    "  response = open_ai_client.embeddings.create(\n",
    "    input=chunk,\n",
    "    model=\"text-embedding-ada-002\"\n",
    "  )\n",
    "  embeddings = response.data[0].embedding\n",
    "  point_id = str(uuid.uuid4())  # Generate a unique ID for the point\n",
    "  points.append(PointStruct(\n",
    "    id=point_id,\n",
    "    payload={\"text\": chunk},\n",
    "    vector=embeddings\n",
    "    )\n",
    "  )\n",
    "\n",
    "qdrant_client.upsert(\n",
    "  collection_name=COLLECTION_NAME,\n",
    "  wait=True,\n",
    "  points=points\n",
    ")"
   ]
  },
  {
   "cell_type": "markdown",
   "metadata": {},
   "source": [
    "Send a query to OpenAI to vecorize and search that in Qdrant"
   ]
  },
  {
   "cell_type": "code",
   "execution_count": 33,
   "metadata": {},
   "outputs": [
    {
     "name": "stdout",
     "output_type": "stream",
     "text": [
      "A candlestick chart is a type of financial chart used to represent the price movements of an asset over a specific time period. It is named for its appearance, as each data point is represented by a rectangular shape, or \"candlestick,\" with a thin line above and below it, called shadows or wicks. These candlesticks can be colored to indicate if the price of the asset increased or decreased during that time period. Candlestick charts are commonly used in technical analysis to identify trends and potential price movements.\n"
     ]
    }
   ],
   "source": [
    "query = \"What is a candlistick chart?\"\n",
    "\n",
    "response = open_ai_client.embeddings.create(\n",
    "  input=chunk,\n",
    "  model=\"text-embedding-ada-002\"\n",
    ")\n",
    "\n",
    "embeddings = response.data[0].embedding\n",
    "search_result = qdrant_client.query_points(\n",
    "    collection_name=COLLECTION_NAME,\n",
    "    query=embeddings,\n",
    "    limit=3\n",
    ").points\n",
    "\n",
    "prompt=\"\"\n",
    "for result in search_result:\n",
    "    prompt += result.payload['text']\n",
    "concatenated_string = \" \".join([prompt,query])\n",
    "completion = open_ai_client.chat.completions.create(\n",
    "    model=\"gpt-3.5-turbo\",\n",
    "    messages=[\n",
    "        {\"role\": \"user\", \"content\": concatenated_string}\n",
    "    ]\n",
    ")\n",
    "\n",
    "print(completion.choices[0].message.content)"
   ]
  }
 ],
 "metadata": {
  "kernelspec": {
   "display_name": "ai-cookbook",
   "language": "python",
   "name": "python3"
  },
  "language_info": {
   "codemirror_mode": {
    "name": "ipython",
    "version": 3
   },
   "file_extension": ".py",
   "mimetype": "text/x-python",
   "name": "python",
   "nbconvert_exporter": "python",
   "pygments_lexer": "ipython3",
   "version": "3.13.0"
  }
 },
 "nbformat": 4,
 "nbformat_minor": 2
}
